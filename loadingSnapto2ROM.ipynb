{
 "cells": [
  {
   "cell_type": "code",
   "execution_count": 29,
   "id": "extra-adult",
   "metadata": {},
   "outputs": [],
   "source": [
    "import numpy as np\n",
    "mu2=np.linspace(0.01,1, 20)\n",
    "num_sample =3 \n",
    "#pc \n",
    "mu2=mu2[0:num_sample]\n",
    "num_time=3\n",
    "time= np.linspace(0,num_time,num_time)\n"
   ]
  },
  {
   "cell_type": "code",
   "execution_count": 30,
   "id": "mental-artwork",
   "metadata": {},
   "outputs": [],
   "source": [
    "params= np.zeros((len(time),2) )\n",
    "params[:,0]= np.ones((len(time), 1)).reshape(-1,)\n",
    "params[:,0]*=np.round(mu2[0],4)\n",
    "params[:,1] = time"
   ]
  },
  {
   "cell_type": "code",
   "execution_count": 33,
   "id": "dramatic-exclusion",
   "metadata": {},
   "outputs": [
    {
     "name": "stdout",
     "output_type": "stream",
     "text": [
      "(174, 2)\n"
     ]
    }
   ],
   "source": [
    "for i in range(1, len(mu2)):\n",
    "    tmp_ = np.zeros((len(time),2))\n",
    "    tmp_[:,0]= np.ones((len(time), 1)).reshape(-1,)\n",
    "    tmp_[:,0]*=np.round(mu2[i],4) # tmp_[:,0]= tmp_[:,0]*mu2[i]    \n",
    "    tmp_[:,1] = time\n",
    "    params = np.vstack((params,tmp_))\n",
    "    \n",
    "#print(params)\n",
    "print(params.shape)"
   ]
  },
  {
   "cell_type": "code",
   "execution_count": 49,
   "id": "funded-marble",
   "metadata": {},
   "outputs": [
    {
     "name": "stdout",
     "output_type": "stream",
     "text": [
      "(0, 0)\n"
     ]
    },
    {
     "ename": "ValueError",
     "evalue": "all the input array dimensions for the concatenation axis must match exactly, but along dimension 0, the array at index 0 has size 0 and the array at index 1 has size 3",
     "output_type": "error",
     "traceback": [
      "\u001b[0;31m---------------------------------------------------------------------------\u001b[0m",
      "\u001b[0;31mValueError\u001b[0m                                Traceback (most recent call last)",
      "\u001b[0;32m<ipython-input-49-6259abc1584b>\u001b[0m in \u001b[0;36m<module>\u001b[0;34m\u001b[0m\n\u001b[1;32m      8\u001b[0m     \u001b[0;31m#tmp_s= np.loadtxt(\"U1_{}.csv\".format(1),delimiter=\",\")\u001b[0m\u001b[0;34m\u001b[0m\u001b[0;34m\u001b[0m\u001b[0;34m\u001b[0m\u001b[0m\n\u001b[1;32m      9\u001b[0m     \u001b[0;31m#tmp_s= np.loadtxt(\"U1_{}.csv\".format(i+1),delimiter=\",\")\u001b[0m\u001b[0;34m\u001b[0m\u001b[0;34m\u001b[0m\u001b[0;34m\u001b[0m\u001b[0m\n\u001b[0;32m---> 10\u001b[0;31m     \u001b[0msnapshots\u001b[0m\u001b[0;34m=\u001b[0m \u001b[0mnp\u001b[0m\u001b[0;34m.\u001b[0m\u001b[0mhstack\u001b[0m\u001b[0;34m(\u001b[0m\u001b[0;34m(\u001b[0m\u001b[0msnapshots\u001b[0m\u001b[0;34m,\u001b[0m \u001b[0mtmp_\u001b[0m\u001b[0;34m)\u001b[0m\u001b[0;34m)\u001b[0m\u001b[0;34m\u001b[0m\u001b[0;34m\u001b[0m\u001b[0m\n\u001b[0m\u001b[1;32m     11\u001b[0m \u001b[0mprint\u001b[0m\u001b[0;34m(\u001b[0m\u001b[0msnapshots\u001b[0m\u001b[0;34m)\u001b[0m\u001b[0;34m\u001b[0m\u001b[0;34m\u001b[0m\u001b[0m\n",
      "\u001b[0;32m<__array_function__ internals>\u001b[0m in \u001b[0;36mhstack\u001b[0;34m(*args, **kwargs)\u001b[0m\n",
      "\u001b[0;32m/srv/conda/envs/notebook/lib/python3.7/site-packages/numpy/core/shape_base.py\u001b[0m in \u001b[0;36mhstack\u001b[0;34m(tup)\u001b[0m\n\u001b[1;32m    344\u001b[0m         \u001b[0;32mreturn\u001b[0m \u001b[0m_nx\u001b[0m\u001b[0;34m.\u001b[0m\u001b[0mconcatenate\u001b[0m\u001b[0;34m(\u001b[0m\u001b[0marrs\u001b[0m\u001b[0;34m,\u001b[0m \u001b[0;36m0\u001b[0m\u001b[0;34m)\u001b[0m\u001b[0;34m\u001b[0m\u001b[0;34m\u001b[0m\u001b[0m\n\u001b[1;32m    345\u001b[0m     \u001b[0;32melse\u001b[0m\u001b[0;34m:\u001b[0m\u001b[0;34m\u001b[0m\u001b[0;34m\u001b[0m\u001b[0m\n\u001b[0;32m--> 346\u001b[0;31m         \u001b[0;32mreturn\u001b[0m \u001b[0m_nx\u001b[0m\u001b[0;34m.\u001b[0m\u001b[0mconcatenate\u001b[0m\u001b[0;34m(\u001b[0m\u001b[0marrs\u001b[0m\u001b[0;34m,\u001b[0m \u001b[0;36m1\u001b[0m\u001b[0;34m)\u001b[0m\u001b[0;34m\u001b[0m\u001b[0;34m\u001b[0m\u001b[0m\n\u001b[0m\u001b[1;32m    347\u001b[0m \u001b[0;34m\u001b[0m\u001b[0m\n\u001b[1;32m    348\u001b[0m \u001b[0;34m\u001b[0m\u001b[0m\n",
      "\u001b[0;32m<__array_function__ internals>\u001b[0m in \u001b[0;36mconcatenate\u001b[0;34m(*args, **kwargs)\u001b[0m\n",
      "\u001b[0;31mValueError\u001b[0m: all the input array dimensions for the concatenation axis must match exactly, but along dimension 0, the array at index 0 has size 0 and the array at index 1 has size 3"
     ]
    }
   ],
   "source": [
    "import os\n",
    "import numpy as np\n",
    "snapshot = np.loadtxt('U1_1.csv',delimiter=\",\")\n"
   ]
  },
  {
   "cell_type": "code",
   "execution_count": 61,
   "id": "middle-indonesia",
   "metadata": {},
   "outputs": [
    {
     "name": "stdout",
     "output_type": "stream",
     "text": [
      "(4662, 3)\n",
      "(4662, 6)\n",
      "[[0.         0.00054395 0.00109173]\n",
      " [0.         0.00302823 0.00601174]\n",
      " [0.         0.00303472 0.00602887]\n",
      " ...\n",
      " [0.         0.00040972 0.00081521]\n",
      " [0.         0.0004544  0.00090684]\n",
      " [0.         0.00050094 0.00100304]]\n"
     ]
    },
    {
     "ename": "OSError",
     "evalue": "U1_2.csv not found.",
     "output_type": "error",
     "traceback": [
      "\u001b[0;31m---------------------------------------------------------------------------\u001b[0m",
      "\u001b[0;31mOSError\u001b[0m                                   Traceback (most recent call last)",
      "\u001b[0;32m<ipython-input-61-082d2d939b96>\u001b[0m in \u001b[0;36m<module>\u001b[0;34m\u001b[0m\n\u001b[1;32m     10\u001b[0m     \u001b[0;31m# tmp_s= np.loadtxt(\"U1_{}.csv\".format(j),delimiter=\",\")\u001b[0m\u001b[0;34m\u001b[0m\u001b[0;34m\u001b[0m\u001b[0;34m\u001b[0m\u001b[0m\n\u001b[1;32m     11\u001b[0m     \u001b[0;31m# real code\u001b[0m\u001b[0;34m\u001b[0m\u001b[0;34m\u001b[0m\u001b[0;34m\u001b[0m\u001b[0m\n\u001b[0;32m---> 12\u001b[0;31m     \u001b[0mtmp_s\u001b[0m\u001b[0;34m=\u001b[0m \u001b[0mnp\u001b[0m\u001b[0;34m.\u001b[0m\u001b[0mloadtxt\u001b[0m\u001b[0;34m(\u001b[0m\u001b[0;34m\"U1_{}.csv\"\u001b[0m\u001b[0;34m.\u001b[0m\u001b[0mformat\u001b[0m\u001b[0;34m(\u001b[0m\u001b[0mi\u001b[0m\u001b[0;34m)\u001b[0m\u001b[0;34m,\u001b[0m\u001b[0mdelimiter\u001b[0m\u001b[0;34m=\u001b[0m\u001b[0;34m\",\"\u001b[0m\u001b[0;34m)\u001b[0m\u001b[0;34m\u001b[0m\u001b[0;34m\u001b[0m\u001b[0m\n\u001b[0m\u001b[1;32m     13\u001b[0m     \u001b[0msnapshot\u001b[0m\u001b[0;34m=\u001b[0m \u001b[0mnp\u001b[0m\u001b[0;34m.\u001b[0m\u001b[0mhstack\u001b[0m\u001b[0;34m(\u001b[0m\u001b[0;34m(\u001b[0m\u001b[0msnapshot\u001b[0m\u001b[0;34m,\u001b[0m \u001b[0mtmp_s\u001b[0m\u001b[0;34m)\u001b[0m\u001b[0;34m)\u001b[0m\u001b[0;34m\u001b[0m\u001b[0;34m\u001b[0m\u001b[0m\n\u001b[1;32m     14\u001b[0m     \u001b[0mprint\u001b[0m\u001b[0;34m(\u001b[0m\u001b[0msnapshot\u001b[0m\u001b[0;34m.\u001b[0m\u001b[0mshape\u001b[0m\u001b[0;34m)\u001b[0m\u001b[0;34m\u001b[0m\u001b[0;34m\u001b[0m\u001b[0m\n",
      "\u001b[0;32m/srv/conda/envs/notebook/lib/python3.7/site-packages/numpy/lib/npyio.py\u001b[0m in \u001b[0;36mloadtxt\u001b[0;34m(fname, dtype, comments, delimiter, converters, skiprows, usecols, unpack, ndmin, encoding, max_rows, like)\u001b[0m\n\u001b[1;32m   1063\u001b[0m             \u001b[0mfname\u001b[0m \u001b[0;34m=\u001b[0m \u001b[0mos_fspath\u001b[0m\u001b[0;34m(\u001b[0m\u001b[0mfname\u001b[0m\u001b[0;34m)\u001b[0m\u001b[0;34m\u001b[0m\u001b[0;34m\u001b[0m\u001b[0m\n\u001b[1;32m   1064\u001b[0m         \u001b[0;32mif\u001b[0m \u001b[0m_is_string_like\u001b[0m\u001b[0;34m(\u001b[0m\u001b[0mfname\u001b[0m\u001b[0;34m)\u001b[0m\u001b[0;34m:\u001b[0m\u001b[0;34m\u001b[0m\u001b[0;34m\u001b[0m\u001b[0m\n\u001b[0;32m-> 1065\u001b[0;31m             \u001b[0mfh\u001b[0m \u001b[0;34m=\u001b[0m \u001b[0mnp\u001b[0m\u001b[0;34m.\u001b[0m\u001b[0mlib\u001b[0m\u001b[0;34m.\u001b[0m\u001b[0m_datasource\u001b[0m\u001b[0;34m.\u001b[0m\u001b[0mopen\u001b[0m\u001b[0;34m(\u001b[0m\u001b[0mfname\u001b[0m\u001b[0;34m,\u001b[0m \u001b[0;34m'rt'\u001b[0m\u001b[0;34m,\u001b[0m \u001b[0mencoding\u001b[0m\u001b[0;34m=\u001b[0m\u001b[0mencoding\u001b[0m\u001b[0;34m)\u001b[0m\u001b[0;34m\u001b[0m\u001b[0;34m\u001b[0m\u001b[0m\n\u001b[0m\u001b[1;32m   1066\u001b[0m             \u001b[0mfencoding\u001b[0m \u001b[0;34m=\u001b[0m \u001b[0mgetattr\u001b[0m\u001b[0;34m(\u001b[0m\u001b[0mfh\u001b[0m\u001b[0;34m,\u001b[0m \u001b[0;34m'encoding'\u001b[0m\u001b[0;34m,\u001b[0m \u001b[0;34m'latin1'\u001b[0m\u001b[0;34m)\u001b[0m\u001b[0;34m\u001b[0m\u001b[0;34m\u001b[0m\u001b[0m\n\u001b[1;32m   1067\u001b[0m             \u001b[0mfh\u001b[0m \u001b[0;34m=\u001b[0m \u001b[0miter\u001b[0m\u001b[0;34m(\u001b[0m\u001b[0mfh\u001b[0m\u001b[0;34m)\u001b[0m\u001b[0;34m\u001b[0m\u001b[0;34m\u001b[0m\u001b[0m\n",
      "\u001b[0;32m/srv/conda/envs/notebook/lib/python3.7/site-packages/numpy/lib/_datasource.py\u001b[0m in \u001b[0;36mopen\u001b[0;34m(path, mode, destpath, encoding, newline)\u001b[0m\n\u001b[1;32m    192\u001b[0m \u001b[0;34m\u001b[0m\u001b[0m\n\u001b[1;32m    193\u001b[0m     \u001b[0mds\u001b[0m \u001b[0;34m=\u001b[0m \u001b[0mDataSource\u001b[0m\u001b[0;34m(\u001b[0m\u001b[0mdestpath\u001b[0m\u001b[0;34m)\u001b[0m\u001b[0;34m\u001b[0m\u001b[0;34m\u001b[0m\u001b[0m\n\u001b[0;32m--> 194\u001b[0;31m     \u001b[0;32mreturn\u001b[0m \u001b[0mds\u001b[0m\u001b[0;34m.\u001b[0m\u001b[0mopen\u001b[0m\u001b[0;34m(\u001b[0m\u001b[0mpath\u001b[0m\u001b[0;34m,\u001b[0m \u001b[0mmode\u001b[0m\u001b[0;34m,\u001b[0m \u001b[0mencoding\u001b[0m\u001b[0;34m=\u001b[0m\u001b[0mencoding\u001b[0m\u001b[0;34m,\u001b[0m \u001b[0mnewline\u001b[0m\u001b[0;34m=\u001b[0m\u001b[0mnewline\u001b[0m\u001b[0;34m)\u001b[0m\u001b[0;34m\u001b[0m\u001b[0;34m\u001b[0m\u001b[0m\n\u001b[0m\u001b[1;32m    195\u001b[0m \u001b[0;34m\u001b[0m\u001b[0m\n\u001b[1;32m    196\u001b[0m \u001b[0;34m\u001b[0m\u001b[0m\n",
      "\u001b[0;32m/srv/conda/envs/notebook/lib/python3.7/site-packages/numpy/lib/_datasource.py\u001b[0m in \u001b[0;36mopen\u001b[0;34m(self, path, mode, encoding, newline)\u001b[0m\n\u001b[1;32m    529\u001b[0m                                       encoding=encoding, newline=newline)\n\u001b[1;32m    530\u001b[0m         \u001b[0;32melse\u001b[0m\u001b[0;34m:\u001b[0m\u001b[0;34m\u001b[0m\u001b[0;34m\u001b[0m\u001b[0m\n\u001b[0;32m--> 531\u001b[0;31m             \u001b[0;32mraise\u001b[0m \u001b[0mIOError\u001b[0m\u001b[0;34m(\u001b[0m\u001b[0;34m\"%s not found.\"\u001b[0m \u001b[0;34m%\u001b[0m \u001b[0mpath\u001b[0m\u001b[0;34m)\u001b[0m\u001b[0;34m\u001b[0m\u001b[0;34m\u001b[0m\u001b[0m\n\u001b[0m\u001b[1;32m    532\u001b[0m \u001b[0;34m\u001b[0m\u001b[0m\n\u001b[1;32m    533\u001b[0m \u001b[0;34m\u001b[0m\u001b[0m\n",
      "\u001b[0;31mOSError\u001b[0m: U1_2.csv not found."
     ]
    }
   ],
   "source": [
    "#import os\n",
    "#files=os.listdir(os.getcwd())\n",
    "#print(files)\n",
    "snapshot = np.loadtxt('U1_1.csv',delimiter=\",\")\n",
    "print(snapshot.shape)\n",
    "\n",
    "for i in range(1, num_sample):\n",
    "    #testing\n",
    "    # j=1\n",
    "    # tmp_s= np.loadtxt(\"U1_{}.csv\".format(j),delimiter=\",\")\n",
    "    # real code\n",
    "    tmp_s= np.loadtxt(\"U1_{}.csv\".format(i+1),delimiter=\",\")\n",
    "    snapshot= np.hstack((snapshot, tmp_s))\n",
    "    print(snapshot.shape)\n",
    "    print(tmp_s)\n",
    "    del tmp_s\n"
   ]
  },
  {
   "cell_type": "code",
   "execution_count": 48,
   "id": "adopted-statement",
   "metadata": {},
   "outputs": [
    {
     "name": "stdout",
     "output_type": "stream",
     "text": [
      "[[0.         0.00054395 0.00109173]\n",
      " [0.         0.00302823 0.00601174]\n",
      " [0.         0.00303472 0.00602887]\n",
      " ...\n",
      " [0.         0.00040972 0.00081521]\n",
      " [0.         0.0004544  0.00090684]\n",
      " [0.         0.00050094 0.00100304]]\n"
     ]
    }
   ],
   "source": [
    "print(snapshot)"
   ]
  },
  {
   "cell_type": "code",
   "execution_count": 62,
   "id": "crazy-diana",
   "metadata": {},
   "outputs": [],
   "source": [
    "np.savetxt('SnapshotMatrix.csv',snapshot, delimiter=\",\")\n",
    "np.savetxt('SnapshotMatrix.npy',snapshot, delimiter=\",\")\n",
    "np.savetxt('params.csv',params, delimiter=\",\")\n",
    "np.savetxt('params.npy',params, delimiter=\",\")\n"
   ]
  },
  {
   "cell_type": "code",
   "execution_count": 87,
   "id": "amateur-crime",
   "metadata": {},
   "outputs": [
    {
     "name": "stdout",
     "output_type": "stream",
     "text": [
      "3\n",
      "3\n",
      "[0.19003655 0.00141766 0.        ]\n",
      "[0.2700076  0.00900265 0.02469067]\n"
     ]
    }
   ],
   "source": [
    "import ezyrb\n",
    "from ezyrb import POD, GPR, RBF, Database\n",
    "from ezyrb import ReducedOrderModel as ROM\n",
    "pod=POD('svd')\n",
    "# RBF: input (parame,snapshot) \n",
    "# we choose the RBF interpolation among the parameters\n",
    "rbf = RBF(kernel='multiquadric', smooth=0.65) #smooth is ur r.\n",
    "#rbf = RBF(kernel='gaussian', smooth=0.65) #smooth is ur r.\n",
    "# we build a database\n",
    "mu2=np.linspace(0.01,1, 20)\n",
    "num_sample =3 \n",
    "#pc \n",
    "mu2=mu2[0:num_sample]\n",
    "num_time=3\n",
    "time= np.linspace(0,num_time,num_time)\n",
    "params= np.zeros((len(time),2) )\n",
    "params[:,0]= np.ones((len(time), 1)).reshape(-1,)\n",
    "params[:,0]*=np.round(mu2[0],4)\n",
    "params[:,1] = time\n",
    "snapshot = np.loadtxt('U1_1.csv',delimiter=\",\")\n",
    "print(len(params))\n",
    "print(len(snapshot.T))\n",
    "db = Database(params, snapshot.T)\n",
    "# we construct the class and fit \n",
    "rom = ROM(db, pod, rbf).fit()\n",
    "num_modes=rom.reduction._modes.shape[1]\n",
    "for i in  range(0, num_modes):\n",
    "    #print(rom.reduction._modes[:,i])\n",
    "    np.savetxt(\"POD_{}.csv\".format(i),rom.reduction._modes[:,i])\n",
    "print(rom.reduction._singular_values)\n",
    "np.savetxt(\"sigmas_.csv\",rom.reduction._singular_values)\n",
    "error= rom.loo_error()\n",
    "print(error)"
   ]
  },
  {
   "cell_type": "code",
   "execution_count": null,
   "id": "honey-complaint",
   "metadata": {},
   "outputs": [],
   "source": []
  }
 ],
 "metadata": {
  "kernelspec": {
   "display_name": "Python 3",
   "language": "python",
   "name": "python3"
  },
  "language_info": {
   "codemirror_mode": {
    "name": "ipython",
    "version": 3
   },
   "file_extension": ".py",
   "mimetype": "text/x-python",
   "name": "python",
   "nbconvert_exporter": "python",
   "pygments_lexer": "ipython3",
   "version": "3.7.9"
  }
 },
 "nbformat": 4,
 "nbformat_minor": 5
}
