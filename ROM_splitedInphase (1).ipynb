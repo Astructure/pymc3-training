{
 "cells": [
  {
   "cell_type": "code",
   "execution_count": 3,
   "id": "lesbian-occasion",
   "metadata": {},
   "outputs": [
    {
     "name": "stdout",
     "output_type": "stream",
     "text": [
      "(3059, 2)\n",
      "3059\n",
      "(4662, 3059)\n",
      "4662\n",
      "0.08533279044760879\n"
     ]
    },
    {
     "data": {
      "image/png": "[encoded data removed]",
      "text/plain": [
       "<Figure size 432x288 with 1 Axes>"
      ]
     },
     "metadata": {
      "needs_background": "light"
     },
     "output_type": "display_data"
    }
   ],
   "source": [
    "import ezyrb\n",
    "from ezyrb import POD, GPR, RBF, Database\n",
    "from ezyrb import ReducedOrderModel as ROM\n",
    "import numpy as np\n",
    "\n",
    "pod=POD('svd')\n",
    "# RBF: input (parame,snapshot) \n",
    "# we choose the RBF interpolation among the parameters\n",
    "rbf = RBF(kernel='multiquadric', smooth=0.65) #smooth is ur r.\n",
    "#rbf = RBF(kernel='gaussian', smooth=0.65) #smooth is ur r.\n",
    "# we build a database\n",
    "mu2=np.linspace(0.01,1, 19)\n",
    "num_sample =19\n",
    "#pc \n",
    "mu2=mu2[0:num_sample]\n",
    "num_time=161\n",
    "time= np.linspace(0,num_time,num_time)\n",
    "\n",
    "params= np.zeros((len(time),2) )\n",
    "params[:,0]= np.ones((len(time), 1)).reshape(-1,)\n",
    "params[:,0]*=np.round(mu2[0],4)\n",
    "params[:,1] = time\n",
    "for i in range(1, len(mu2)):\n",
    "    tmp_ = np.zeros((len(time),2))\n",
    "    tmp_[:,0]= np.ones((len(time), 1)).reshape(-1,)\n",
    "    tmp_[:,0]*=np.round(mu2[i],4) # tmp_[:,0]= tmp_[:,0]*mu2[i]    \n",
    "    tmp_[:,1] = time\n",
    "    params = np.vstack((params,tmp_))\n",
    "    \n",
    "#print(params)\n",
    "print(params.shape)\n",
    "snapshots = np.loadtxt('SnapshotMatrix.csv',delimiter=\",\")\n",
    "print(len(params))\n",
    "print(snapshots.shape)\n",
    "print(len(snapshots))\n",
    "db = Database(params, snapshots.T)\n",
    "# we construct the class and fit \n",
    "pod = POD('svd') # rank=0.9999\n",
    "computedPOD = True #False\n",
    "computeRBF= True \n",
    "if computedPOD:\n",
    "    _=pod.reduce(snapshots)\n",
    "    #num_modes=pod._modes.shape[1] #numpy array shape => return tuple of 2 element, array.shape[1] num  of columns\n",
    "    s = pod._singular_values\n",
    "    cumulative_energy = np.cumsum(s**2 / (s**2).sum())\n",
    "    rank=np.where(cumulative_energy<0.9999999)[0]\n",
    "    for i in  rank:\n",
    "        np.savetxt(\"POD_{}.csv\".format(i),pod._modes[:,i])\n",
    "    #print(pod._singular_values)\n",
    "    np.savetxt(\"sigmas_.csv\",pod._singular_values)\n",
    "    np.savetxt(\"sigmas_selected.csv\",pod._singular_values[rank])\n",
    "    pod._modes= pod._modes[:,rank]\n",
    "    \n",
    "else:\n",
    "    pod._singular_values=np.loadtxt(\"sigmas_selected.csv\")\n",
    "    modes=np.zeros((snapshot.shape[0],len(pod._singular_values)))\n",
    "    for i in range(0,len(pod._singular_values)):\n",
    "        modes[:,i]=np.loadtxt(\"POD_{}.csv\".format(i))\n",
    "    pod._modes = modes\n",
    "\n",
    "reducedcoord = pod._modes.T.dot(db.snapshots.T).T # Projection of snapshot on POD basis.\n",
    "# number of snap x number of basis\n",
    "rbf.fit(db.parameters,reducedcoord)\n",
    "\n",
    "##ONLINE\n",
    "# Save RBF function..    \n",
    "#.....\n",
    "fem_full= np.loadtxt('U1_2.csv',delimiter=\",\") #mu2[1], timeserie (true) \n",
    "\n",
    "error_pod_vs_fea= np.zeros((len(time)-1,1))\n",
    "for item,t in enumerate(time):\n",
    "    \n",
    "    new_mu = [np.round(mu2[1],4), t]\n",
    "    rbf_prediction = np.atleast_2d(rbf.predict(new_mu)).T\n",
    "    pod_solutionOnline=pod.expand(rbf_prediction) #prediciton with ROM-RBF\n",
    "    true_solution= fem_full[:,item] #abaqus sol\n",
    "    if item>0:\n",
    "        error= np.linalg.norm(pod_solutionOnline-true_solution)/np.linalg.norm(true_solution)\n",
    "        error_pod_vs_fea[item-1]=error\n",
    "        #print(\"error relative l2, {} at time {} with param {}\".format(error,t,new_mu[0]))    \n",
    "import matplotlib\n",
    "import matplotlib.pyplot as plt\n",
    "\n",
    "# Data for plotting\n",
    "fig, ax = plt.subplots()\n",
    "ax.semilogy(error_pod_vs_fea)\n",
    "#fig.savefig(\"error_in_time.png\")\n",
    "print(error_pod_vs_fea.max())"
   ]
  },
  {
   "cell_type": "code",
   "execution_count": 4,
   "id": "european-chamber",
   "metadata": {},
   "outputs": [
    {
     "data": {
      "text/plain": [
       "(71, 4662)"
      ]
     },
     "execution_count": 4,
     "metadata": {},
     "output_type": "execute_result"
    }
   ],
   "source": [
    "pod.modes.T.shape"
   ]
  },
  {
   "cell_type": "code",
   "execution_count": 5,
   "id": "inner-racing",
   "metadata": {},
   "outputs": [
    {
     "data": {
      "text/plain": [
       "(4662, 3059)"
      ]
     },
     "execution_count": 5,
     "metadata": {},
     "output_type": "execute_result"
    }
   ],
   "source": [
    "snapshots.shape\n"
   ]
  },
  {
   "cell_type": "code",
   "execution_count": 6,
   "id": "cooked-vanilla",
   "metadata": {},
   "outputs": [
    {
     "data": {
      "text/plain": [
       "(3059, 71)"
      ]
     },
     "execution_count": 6,
     "metadata": {},
     "output_type": "execute_result"
    }
   ],
   "source": [
    "pod._modes.T.dot(db.snapshots.T).T.shape"
   ]
  },
  {
   "cell_type": "code",
   "execution_count": 7,
   "id": "professional-update",
   "metadata": {},
   "outputs": [
    {
     "data": {
      "text/plain": [
       "(71, 1)"
      ]
     },
     "execution_count": 7,
     "metadata": {},
     "output_type": "execute_result"
    }
   ],
   "source": [
    "np.atleast_2d(rbf.predict(new_mu)).T.shape"
   ]
  },
  {
   "cell_type": "code",
   "execution_count": null,
   "id": "coordinated-preservation",
   "metadata": {},
   "outputs": [],
   "source": []
  }
 ],
 "metadata": {
  "kernelspec": {
   "display_name": "Python 3",
   "language": "python",
   "name": "python3"
  },
  "language_info": {
   "codemirror_mode": {
    "name": "ipython",
    "version": 3
   },
   "file_extension": ".py",
   "mimetype": "text/x-python",
   "name": "python",
   "nbconvert_exporter": "python",
   "pygments_lexer": "ipython3",
   "version": "3.7.10"
  }
 },
 "nbformat": 4,
 "nbformat_minor": 5
}
